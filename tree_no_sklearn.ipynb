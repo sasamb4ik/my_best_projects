{
 "cells": [
  {
   "cell_type": "code",
   "execution_count": 1,
   "metadata": {},
   "outputs": [],
   "source": [
    "import numpy as np\n",
    "import pandas as pd\n",
    "import warnings\n",
    "\n",
    "from sklearn.base import BaseEstimator\n",
    "from sklearn.metrics import accuracy_score, r2_score\n",
    "from sklearn.model_selection import GridSearchCV, train_test_split\n",
    "\n",
    "import matplotlib.pyplot as plt\n",
    "import seaborn as sns\n",
    "\n",
    "warnings.filterwarnings('ignore')\n",
    "sns.set(font_scale = 1.6)"
   ]
  },
  {
   "cell_type": "markdown",
   "metadata": {},
   "source": [
    "---\n",
    "# Реализуем решающее дерево как в sklearn"
   ]
  },
  {
   "cell_type": "markdown",
   "metadata": {
    "id": "QGzAPeK4FL_E"
   },
   "source": [
    "Вспомним, как именно происходит построение решающего дерева. Для построения дерева в каждой нелистовой вершине происходит разбиение подвыборки на две части по некоторому признаку $x_j$. Этот признак и порог $t$, по которому будет происходить разбиение, мы хотим брать не произвольно, а основываясь на соображениях оптимальности.  Для этого нам необходимо задать некоторый фукционал качества, который будем оптимизировать при построении разбиения\n",
    "\n",
    "Обозначим через $X_m$ — множество объектов, попавших в вершину $m$, разбиваемую на данном шаге, а через $X_l$ и $X_r$ — объекты, попадающие в левое и правое поддерево соответственно при заданном правиле $I\\{x_j < t\\}$. Пусть также $H$ — используемый критерий информативности (impurity criterion).\n",
    "\n",
    "При разбиении вершины мы минимизируем так называемое `impurity`:"
   ]
  },
  {
   "cell_type": "markdown",
   "metadata": {
    "id": "fxYGo5hDFL_f"
   },
   "source": [
    "$$Q(X_m, j, t) = \\frac{|X_l|}{|X|}H(X_l) + \\frac{|X_r|}{|X|}H(X_r).$$"
   ]
  },
  {
   "cell_type": "markdown",
   "metadata": {
    "id": "1tSAxVdHFMAM"
   },
   "source": [
    "Общая идея для всех критериев информативности и что они пытаются минимизировать:\n",
    "\n",
    "**Ответ.** Чем меньше разнообразие целевой переменной, тем меньше должно быть значение критерия информативности — и, соответственно, мы будем пытаться минимизировать его значение. Тогда функционал качества $Q(X_m, j, t)$ будет показывать качество разбиения по предикату $\\{x^j < t\\}$, то есть однородность полученных вершин. Его мы пытаемся минимизировать.\n"
   ]
  },
  {
   "cell_type": "code",
   "execution_count": 15,
   "metadata": {
    "ExecuteTime": {
     "end_time": "2021-03-02T12:07:30.706926Z",
     "start_time": "2021-03-02T12:07:30.696812Z"
    },
    "id": "8inXiL3FFMAl"
   },
   "outputs": [],
   "source": [
    "# Код функций, реализующих критерии разбиения. \n",
    "\n",
    "def mean_square_criterion(y):\n",
    "    ''' Критерий для квадратичной функции потерь. '''\n",
    "    \n",
    "    return np.mean((y - np.mean(y))**2)\n",
    "\n",
    "\n",
    "def mean_abs_criterion(y):\n",
    "    ''' Критерий для абсолютной функции потерь. '''\n",
    "    \n",
    "    return np.mean(np.absolute(y - np.median(y)))\n",
    "\n",
    "\n",
    "def get_probs_by_y(y):\n",
    "    ''' Возвращает вектор частот для каждого класса выборки. '''\n",
    "    \n",
    "    _, counts = np.unique(y, return_counts=True)\n",
    "    return counts / np.sum(counts)\n",
    "\n",
    "\n",
    "def gini_criterion(y):\n",
    "    ''' Критерий Джини. '''\n",
    "    \n",
    "    probs = get_probs_by_y(y)\n",
    "    return np.sum(probs * (1 - probs))\n",
    "\n",
    "\n",
    "def entropy_criterion(y):\n",
    "    ''' Энтропийный критерий. '''\n",
    "    \n",
    "    probs = get_probs_by_y(y)\n",
    "    return -np.sum(probs * np.log(probs))"
   ]
  },
  {
   "cell_type": "markdown",
   "metadata": {
    "id": "FN5GPd10FMAt"
   },
   "source": [
    "Немного тестов"
   ]
  },
  {
   "cell_type": "code",
   "execution_count": 3,
   "metadata": {
    "ExecuteTime": {
     "end_time": "2021-03-02T12:07:30.936546Z",
     "start_time": "2021-03-02T12:07:30.928001Z"
    },
    "id": "EHZcseUGFMAz"
   },
   "outputs": [],
   "source": [
    "assert np.allclose(get_probs_by_y([1, 1, 2, 2, 7]), \n",
    "                   np.array([0.4, 0.4, 0.2]))\n",
    "assert np.allclose(get_probs_by_y([1]), np.array([1]))"
   ]
  },
  {
   "cell_type": "markdown",
   "metadata": {
    "id": "J5isaQy8FMBP"
   },
   "source": [
    "Еще немного тестов для критериев разбиения"
   ]
  },
  {
   "cell_type": "code",
   "execution_count": 4,
   "metadata": {
    "ExecuteTime": {
     "end_time": "2021-03-02T12:07:31.188684Z",
     "start_time": "2021-03-02T12:07:31.178898Z"
    },
    "id": "YfNxjg6zFMBU"
   },
   "outputs": [],
   "source": [
    "assert np.allclose(entropy_criterion([25]), 0)\n",
    "assert np.allclose(gini_criterion([25]), 0)\n",
    "assert np.allclose(mean_square_criterion([10, 10, 10]), 0)\n",
    "assert np.allclose(mean_abs_criterion([10, 10, 10]), 0)"
   ]
  },
  {
   "cell_type": "markdown",
   "metadata": {
    "id": "x_2EjJpiFMBo"
   },
   "source": [
    "**Реализация класса решающего дерева.**\n",
    "\n",
    "Используются следующие классы:\n",
    "\n",
    "**Класс 1**. `BaseDecisionTree` — класс для решающего дерева, в котором реализовано построение дерева. Все вершины дерева хранятся в списке `self.nodes`, при этом вершина с номером 0 — корень.\n",
    "\n",
    "\n",
    "1) `__init__` — инициализация дерева. Здесь сохраняются гиперпараметры дерева: `criterion`, `max_depth`, `min_samples_split` и инициализируется список вершин, состоящий только из одной вершины — корневой,\n",
    "\n",
    "2) `build_` — рекурсивная функция построения дерева. В ней при посещении каждой вершины дерева проверяются условия, стоит ли продолжать разбивать эту вершину. Если да, то перебираются все возможные признаки и пороговые значения и выбирается та пара (признак, значение), которой соответствует наименьшее значение функционала,\n",
    "\n",
    "3) `fit` — функция обучения дерева, принимающая на вход обучающую выборку. В этой функции происходит предподсчёт всех возможных пороговых значений для каждого из признаков, а затем вызывается функция `build_`.\n",
    "\n",
    "**Класс 2**. `Node` — класс вершины дерева. Внутри вершины, помимо раздяляющего признака и порога хранятся `self.left_son`, `self.right_son` — номера дочерних вершин, а также `self.left_prob` и `self.right_prob` — вероятности попадания элемента в каждую из них (это потребуется при обработке данных с пропусками). При этом в листовых вершиных хранятся также `self.y_values` — значения соответствующих элементов выборки, попавших в вершину.\n",
    "\n",
    "1) `__init__` — инициализация вершины. Принимает в качестве аргументов разделяющий признак и пороговое значение и сохраняет их.\n",
    "\n",
    "**Класс 3**. `DecisionTreeRegressor` — наследник класса `BaseDecisionTree`, в котором реализованы функции для предсказаний при решении задачи регрессии.\n",
    "\n",
    "1) `predict_instance` — получение предсказания для одного элемента выборки. Выполняется посредством спуска по решающему дереву до листовой вершины,\n",
    "\n",
    "2) `predict` — получение предсказаний для всех элементов выборки.\n",
    "\n",
    "\n",
    "**Класс 4**. `DecisionTreeClassifier` — наследник класса `BaseDecisionTree`, в котором реализованы функции для предсказаний при решении задачи классификации.\n",
    "\n",
    "1) `predict_proba_instance` — предсказание распределение вероятностей по классам для одного элемента выборки, \n",
    "\n",
    "2) `predict_proba` — предсказание распределение вероятностей по классам для всех элементов выборки,\n",
    "\n",
    "3) `predict` — предсказание меток классов для всех элементов выборки."
   ]
  },
  {
   "cell_type": "markdown",
   "metadata": {
    "id": "YJ6o-jM8mgrm"
   },
   "source": [
    "**Структура решающего дерева**\n",
    "\n",
    "<img src=\"https://i.ibb.co/N2W2Zd4/decision-tree-scheme.png\"/>"
   ]
  },
  {
   "cell_type": "code",
   "execution_count": 5,
   "metadata": {
    "ExecuteTime": {
     "end_time": "2021-03-02T12:07:32.034975Z",
     "start_time": "2021-03-02T12:07:31.997095Z"
    },
    "id": "mjDSEAWmFMBp"
   },
   "outputs": [],
   "source": [
    "def get_not_nans(arr):\n",
    "    '''\n",
    "    функция которая создаёт и возвращает новый массив \n",
    "    из всех элементов переданного массива, не являющихся None.\n",
    "    '''\n",
    "    \n",
    "    return arr.copy()[~np.isnan(arr)]\n",
    "\n",
    "\n",
    "class Node(object):\n",
    "    def __init__(self, split_feature = None, split_threshold = None):\n",
    "        '''\n",
    "        инициализация вершины решающего дерева.\n",
    "        \n",
    "        1) split_feature — номер разделяющего признака\n",
    "        2) split_threshold — пороговое значение\n",
    "        '''\n",
    "        \n",
    "        self.split_feature = split_feature\n",
    "        self.split_threshold = split_threshold\n",
    "        # По умолчанию считаем, что у вершины нет дочерних вершин.\n",
    "        self.left_son, self.right_son = None, None\n",
    "        # Вероятности попадания в каждую из дочерних вершин нужно поддерживать \n",
    "        # для корректной обработки данных с пропусками\n",
    "        self.left_prob, self.right_prob = 0, 0\n",
    "        # Массив значений y. Определён только для листовых вершин дерева\n",
    "        self.y_values = None\n",
    "        \n",
    "\n",
    "class BaseDecisionTree(BaseEstimator):\n",
    "    '''\n",
    "    реализация всех основных функций для работы\n",
    "    с решающим деревом.\n",
    "    \n",
    "    наследование от класса BaseEstimator нужно для того, чтобы \n",
    "    в дальнейшем данный   класс можно было использовать в \n",
    "    различных функциях библиотеки sklearn, например, в функциях \n",
    "    для кросс-валидации\n",
    "    '''\n",
    "    \n",
    "    def __init__(self,\n",
    "                 criterion,\n",
    "                 max_depth=np.inf,\n",
    "                 min_samples_split=2):\n",
    "        '''\n",
    "        1) criterion — критерий информативности, \n",
    "        2) max_depth — максимальная глубина дерева,\n",
    "        3) min_samples_split — минимальное количество элементов \n",
    "        обучающей выборки,  которое должно попасть в вершину, \n",
    "        чтобы потом происходило разбиение этой вершины.\n",
    "        '''\n",
    "        \n",
    "        self.criterion = criterion\n",
    "        self.max_depth = max_depth\n",
    "        self.min_samples_split = min_samples_split\n",
    "        # Список всех вершин дерева. В самом начале \n",
    "        # работы алгоритма есть только одна \n",
    "        # вершина — корень.\n",
    "        self.nodes = [Node()]\n",
    "        # Количество классов. Актуально только \n",
    "        # при решении задачи классификации.\n",
    "        self.class_count = 1\n",
    "        # Сюда нужно будет записать все значения \n",
    "        # для каждого из признаков датасета.\n",
    "        self.feature_values = None\n",
    "    \n",
    "    def build_(self, v, X, y, depth = 0):\n",
    "        '''\n",
    "        рекурсивная функция построения дерева\n",
    "        \n",
    "        1) v — номер рассматриваемой вершины\n",
    "        2) X, y — обучающая выборка, попавшая в текущую вершину\n",
    "        3) depth — глубина вершины с номером v\n",
    "        '''\n",
    "        \n",
    "        reached_max_depth = depth == self.max_depth\n",
    "        not_enough_split = len(y) < self.min_samples_split\n",
    "        is_homogenous = len(np.unique(y)) == 1\n",
    "        if reached_max_depth or not_enough_split or is_homogenous:\n",
    "            # Еcли строим дерево для классификации, то \n",
    "            # сохраняем метки классов всех элементов выборки,\n",
    "            # попавших в вершину.\n",
    "            if callable(getattr(self, \"set_class_count\", None)):\n",
    "                self.nodes[v].y_values = y.copy()\n",
    "            # Для регрессии сразу вычислим среднее всех \n",
    "            # элементов вершины.\n",
    "            else:\n",
    "                self.nodes[v].y_values = np.mean(y)\n",
    "            return\n",
    "        \n",
    "        best_criterion_value = np.inf\n",
    "        best_feature, best_threshold = 0, 0\n",
    "        sample_size, feature_count = X.shape\n",
    "        \n",
    "        # переберём все возможные признаки и значения порогов,\n",
    "        # найдём оптимальный признак и значение порога \n",
    "        # и запишем их в best_feature, best_threshold\n",
    "        for feature_id in range(feature_count):\n",
    "            for threshold in self.feature_values[feature_id]:\n",
    "                # делим вершину по рассматриваемому признаку \n",
    "                # и пороговому значению\n",
    "                y_l = y[np.nan_to_num(\n",
    "                    X[:, feature_id], threshold\n",
    "                ) < threshold]\n",
    "                y_r = y[np.nan_to_num(\n",
    "                    X[:, feature_id], threshold - 1\n",
    "                ) >= threshold]\n",
    "                if len(y_l) == 0 or len(y_r) == 0:\n",
    "                    continue\n",
    "     \n",
    "                left_fraction = len(y_l) / (len(y_l) + len(y_r))\n",
    "                criterion_left = left_fraction * self.criterion(y_l) \n",
    "                criterion_right = (1 - left_fraction) * self.criterion(y_r)\n",
    "                # если для рассматриваемого признака и \n",
    "                # порога значение критерия лучше, чем для\n",
    "                # всех предыдущих пар (признак, порог),\n",
    "                # то обновляем оптимальный признак и\n",
    "                # порог разбиения\n",
    "                if criterion_left + criterion_right < best_criterion_value:\n",
    "                    best_criterion_value = criterion_left + criterion_right\n",
    "                    best_feature = feature_id\n",
    "                    best_threshold = threshold\n",
    "        \n",
    "        # сохраним найденные параметры в класс текущей вершины\n",
    "        self.nodes[v].split_feature = best_feature\n",
    "        self.nodes[v].split_threshold = best_threshold\n",
    "        # разделим выборку на 2 части по порогу\n",
    "        left_indices = np.nan_to_num(X[:, best_feature], \n",
    "                                     best_threshold) < best_threshold\n",
    "        right_indices = np.nan_to_num(X[:, best_feature], \n",
    "                                      best_threshold - 1) >= best_threshold\n",
    "        left_indices_or_nans = left_indices | np.isnan(X[:, best_feature])\n",
    "        right_indices_or_nans = right_indices | np.isnan(X[:, best_feature])\n",
    "        \n",
    "        X_l, y_l = X[left_indices_or_nans, :], y[left_indices_or_nans]\n",
    "        X_r, y_r = X[right_indices_or_nans, :], y[right_indices_or_nans]\n",
    "        self.nodes[v].left_prob = np.sum(left_indices) / len(y)\n",
    "        self.nodes[v].right_prob = np.sum(right_indices) / len(y)\n",
    "        \n",
    "        # создаём левую и правую дочерние вершины,\n",
    "        # и кладём их в массив self.nodes \n",
    "        self.nodes.append(Node())\n",
    "        self.nodes.append(Node())\n",
    "        # сохраняем индексы созданных вершин в \n",
    "        # качестве левого и правого сына вершины v\n",
    "        self.nodes[v].left_son, self.nodes[v].right_son \\\n",
    "            = len(self.nodes)-2, len(self.nodes)-1\n",
    "        # рекурсивно вызываем алгоритм построения\n",
    "        # дерева для дочерних вершин\n",
    "        self.build_(self.nodes[v].left_son, X_l, y_l, depth+1)\n",
    "        self.build_(self.nodes[v].right_son, X_r, y_r, depth+1)\n",
    "    \n",
    "    def fit(self, X, y):        \n",
    "        # сохраним заранее все пороги для каждого\n",
    "        # из признаков обучающей выборки\n",
    "        X, y = np.array(X), np.array(y)\n",
    "        self.feature_values = []\n",
    "        for feature_id in range(X.shape[1]):\n",
    "            self.feature_values.append(\n",
    "                np.unique(get_not_nans(X[:, feature_id]))\n",
    "            )\n",
    "            \n",
    "        set_class_count = getattr(self, \"set_class_count\", None)\n",
    "        # если строится дерево для классификации,\n",
    "        # то нужно посчитать количество классов \n",
    "        if callable(set_class_count):\n",
    "            set_class_count(y)\n",
    "        self.build_(0, X, y)"
   ]
  },
  {
   "cell_type": "markdown",
   "metadata": {
    "id": "l9fSmo8bFMBz"
   },
   "source": [
    "Теперь, когда общий код решающего дерева написан, нужно сделать обёртки над `BaseDecisionTree` — `DecisionTreeRegressor` и `DecisionTreeClassifier` для использования решающего дерева в задачах регрессии и классификации соответственно\n",
    "\n",
    "Функции `predict_instance` и `predict_proba_instance` в классах для регрессии и классификации для одного элемента $x$ выборки промоделируют спуск в решающем дереве, а затем по листовой вершине, в которой окажется объект, посчитают для классификации — распределение вероятностей, а для регрессии — число $y$"
   ]
  },
  {
   "cell_type": "code",
   "execution_count": 6,
   "metadata": {
    "ExecuteTime": {
     "end_time": "2021-03-02T12:07:32.170031Z",
     "start_time": "2021-03-02T12:07:32.155906Z"
    },
    "id": "-TsPfPP2FMB0"
   },
   "outputs": [],
   "source": [
    "class DecisionTreeRegressor(BaseDecisionTree):\n",
    "    def predict_instance(self, x, v):\n",
    "        '''\n",
    "        1) x — элемент выборки, для которого\n",
    "        требуется предсказать значение y\n",
    "        2) v — рассматриваемая вершина дерева\n",
    "        '''\n",
    "        \n",
    "        if self.nodes[v].left_son is None:\n",
    "            return np.mean(self.nodes[v].y_values)\n",
    "        \n",
    "        # если у объекта x значение признака по\n",
    "        # которому происходит разделение,  меньше \n",
    "        # порогового, то спускаемся в левое поддерево,\n",
    "        # иначе — в правое\n",
    "        if x[self.nodes[v].split_feature] < self.nodes[v].split_threshold:\n",
    "            return self.predict_instance(x, self.nodes[v].left_son)\n",
    "        elif x[self.nodes[v].split_feature] >= self.nodes[v].split_threshold:\n",
    "            return self.predict_instance(x, self.nodes[v].right_son)\n",
    "        # а если у элемента отсутствует значение \n",
    "        # разделяющего признака,  то будем спускаться \n",
    "        # в оба поддерева\n",
    "        else:\n",
    "            left_predict = self.predict_instance(x, self.nodes[v].left_son)\n",
    "            right_predict = self.predict_instance(x, self.nodes[v].right_son)\n",
    "            \n",
    "            return self.nodes[v].left_prob * left_predict +\\\n",
    "                   self.nodes[v].right_prob * right_predict\n",
    "    \n",
    "    def predict(self, X):        \n",
    "        return [self.predict_instance(x, 0) for x in X]"
   ]
  },
  {
   "cell_type": "markdown",
   "metadata": {
    "id": "9AIivcf1HsaO"
   },
   "source": [
    "Для удобства реализации функции `predict_proba_instance` класса `DecisionTreeClassifier` будем считать, что все классы имеют целочисленные метки от 0 до $k-1$, где $k$ — количество классов. Если бы это условие не было выполнено, то нужно было бы сначала сделать предобработку меток классов в датасете."
   ]
  },
  {
   "cell_type": "code",
   "execution_count": 7,
   "metadata": {
    "ExecuteTime": {
     "end_time": "2021-03-02T12:07:32.444795Z",
     "start_time": "2021-03-02T12:07:32.419620Z"
    },
    "id": "XsUijRoCFMCH"
   },
   "outputs": [],
   "source": [
    "class DecisionTreeClassifier(BaseDecisionTree):\n",
    "    def set_class_count(self, y):\n",
    "        self.class_count = np.max(y) + 1\n",
    "    \n",
    "    def predict_proba_instance(self, x, v):\n",
    "        '''\n",
    "        1) x — элемент выборки, для которого \n",
    "        требуется предсказать значение y\n",
    "        2) v — вершина дерева, в которой \n",
    "        находится алгоритм\n",
    "        '''\n",
    "        \n",
    "        if self.nodes[v].left_son is None:\n",
    "            result = np.zeros(self.class_count)\n",
    "            classes, counts = np.unique(self.nodes[v].y_values, \n",
    "                                        return_counts=True)\n",
    "            result[classes.astype(int)] = counts\n",
    "            return result / np.sum(result)\n",
    "\n",
    "        # если у x значение признака по которому происходит разделение, \n",
    "        # меньше порогового, то спускаемся в левое поддерево, иначе — в правое\n",
    "        if x[self.nodes[v].split_feature] < self.nodes[v].split_threshold:\n",
    "            return self.predict_proba_instance(x, self.nodes[v].left_son)\n",
    "        elif x[self.nodes[v].split_feature] >= self.nodes[v].split_threshold:\n",
    "            return self.predict_proba_instance(x, self.nodes[v].right_son)\n",
    "        # а если у элемента отсутствует значение разделяющего признака,\n",
    "        # то будем спускаться в оба дерева\n",
    "        else:\n",
    "            left_predict \\\n",
    "                = self.predict_proba_instance(x, self.nodes[v].left_son)\n",
    "            right_predict = \\\n",
    "                self.predict_proba_instance(x, self.nodes[v].right_son)\n",
    "            \n",
    "            return self.nodes[v].left_prob * left_predict +\\\n",
    "                   self.nodes[v].right_prob * right_predict\n",
    "    \n",
    "    def predict_proba(self, X):\n",
    "        return [self.predict_proba_instance(x, 0) for x in X]\n",
    "    \n",
    "    def predict(self, X):\n",
    "        return np.argmax(self.predict_proba(X), axis=1)"
   ]
  },
  {
   "cell_type": "markdown",
   "metadata": {
    "id": "2NujQBMOFMCm"
   },
   "source": [
    "**Проверим, что наши старания хотя бы работают**\n",
    "\n",
    "Подберем гиперпараметры для разных задач"
   ]
  },
  {
   "cell_type": "markdown",
   "metadata": {},
   "source": [
    "**Задача регрессии.**"
   ]
  },
  {
   "cell_type": "code",
   "execution_count": 10,
   "metadata": {},
   "outputs": [],
   "source": [
    "from sklearn.datasets import fetch_openml"
   ]
  },
  {
   "cell_type": "code",
   "execution_count": 11,
   "metadata": {
    "ExecuteTime": {
     "end_time": "2021-03-02T12:34:26.432948Z",
     "start_time": "2021-03-02T12:34:26.428028Z"
    },
    "colab": {
     "background_save": true
    },
    "id": "b-iVP6WRFMEX"
   },
   "outputs": [],
   "source": [
    "boston = fetch_openml(name=\"boston\", version=1, as_frame=True)\n",
    "boston_X = boston.data\n",
    "boston_y = boston.target\n",
    "\n",
    "X_train, X_test, y_train, y_test = train_test_split(boston_X, boston_y, \n",
    "                                                    random_state = 777)"
   ]
  },
  {
   "cell_type": "markdown",
   "metadata": {},
   "source": [
    "Далее для критерия `r2_score` наёдем оптимальные параметры обучения дерева — `max_depth` и `min_samples_split`"
   ]
  },
  {
   "cell_type": "code",
   "execution_count": 12,
   "metadata": {
    "ExecuteTime": {
     "end_time": "2021-03-02T12:34:26.422685Z",
     "start_time": "2021-03-02T12:34:26.416532Z"
    },
    "colab": {
     "background_save": true
    },
    "id": "s07grx98FMEF"
   },
   "outputs": [],
   "source": [
    "regression_criteria = [mean_square_criterion, mean_abs_criterion]\n",
    "criterion_names = ['mean_square', 'mean_abs']"
   ]
  },
  {
   "cell_type": "code",
   "execution_count": 14,
   "metadata": {
    "ExecuteTime": {
     "end_time": "2021-03-02T12:34:26.364613Z",
     "start_time": "2021-03-02T12:32:24.283232Z"
    },
    "colab": {
     "background_save": true
    },
    "id": "FpHqUk4WFMDx",
    "outputId": "7c74e807-505c-4c4e-a494-cda7e92a8c53",
    "scrolled": true
   },
   "outputs": [
    {
     "name": "stdout",
     "output_type": "stream",
     "text": [
      "Fitting 5 folds for each of 121 candidates, totalling 605 fits\n"
     ]
    },
    {
     "ename": "KeyboardInterrupt",
     "evalue": "",
     "output_type": "error",
     "traceback": [
      "\u001b[0;31m---------------------------------------------------------------------------\u001b[0m",
      "\u001b[0;31mKeyboardInterrupt\u001b[0m                         Traceback (most recent call last)",
      "Cell \u001b[0;32mIn[14], line 13\u001b[0m\n\u001b[1;32m      1\u001b[0m \u001b[38;5;28;01mfor\u001b[39;00m criterion, criterion_name \u001b[38;5;129;01min\u001b[39;00m \u001b[38;5;28mzip\u001b[39m(regression_criteria, criterion_names):\n\u001b[1;32m      2\u001b[0m     dt_regressor \u001b[38;5;241m=\u001b[39m GridSearchCV(\n\u001b[1;32m      3\u001b[0m         estimator\u001b[38;5;241m=\u001b[39mDecisionTreeRegressor(criterion),\n\u001b[1;32m      4\u001b[0m         param_grid\u001b[38;5;241m=\u001b[39m{\n\u001b[0;32m   (...)\u001b[0m\n\u001b[1;32m     11\u001b[0m         n_jobs\u001b[38;5;241m=\u001b[39m\u001b[38;5;241m-\u001b[39m\u001b[38;5;241m1\u001b[39m,  \u001b[38;5;66;03m# кол-во параллельных процессов\u001b[39;00m\n\u001b[1;32m     12\u001b[0m     )\n\u001b[0;32m---> 13\u001b[0m     dt_regressor\u001b[38;5;241m.\u001b[39mfit(X_train, y_train)\n\u001b[1;32m     14\u001b[0m     predictions \u001b[38;5;241m=\u001b[39m dt_regressor\u001b[38;5;241m.\u001b[39mpredict(X_test)\n\u001b[1;32m     16\u001b[0m     \u001b[38;5;66;03m# Выведем оптимальные гиперпараметры по кросс-валидации\u001b[39;00m\n",
      "File \u001b[0;32m~/anaconda3/lib/python3.11/site-packages/sklearn/base.py:1474\u001b[0m, in \u001b[0;36m_fit_context.<locals>.decorator.<locals>.wrapper\u001b[0;34m(estimator, *args, **kwargs)\u001b[0m\n\u001b[1;32m   1467\u001b[0m     estimator\u001b[38;5;241m.\u001b[39m_validate_params()\n\u001b[1;32m   1469\u001b[0m \u001b[38;5;28;01mwith\u001b[39;00m config_context(\n\u001b[1;32m   1470\u001b[0m     skip_parameter_validation\u001b[38;5;241m=\u001b[39m(\n\u001b[1;32m   1471\u001b[0m         prefer_skip_nested_validation \u001b[38;5;129;01mor\u001b[39;00m global_skip_validation\n\u001b[1;32m   1472\u001b[0m     )\n\u001b[1;32m   1473\u001b[0m ):\n\u001b[0;32m-> 1474\u001b[0m     \u001b[38;5;28;01mreturn\u001b[39;00m fit_method(estimator, \u001b[38;5;241m*\u001b[39margs, \u001b[38;5;241m*\u001b[39m\u001b[38;5;241m*\u001b[39mkwargs)\n",
      "File \u001b[0;32m~/anaconda3/lib/python3.11/site-packages/sklearn/model_selection/_search.py:970\u001b[0m, in \u001b[0;36mBaseSearchCV.fit\u001b[0;34m(self, X, y, **params)\u001b[0m\n\u001b[1;32m    964\u001b[0m     results \u001b[38;5;241m=\u001b[39m \u001b[38;5;28mself\u001b[39m\u001b[38;5;241m.\u001b[39m_format_results(\n\u001b[1;32m    965\u001b[0m         all_candidate_params, n_splits, all_out, all_more_results\n\u001b[1;32m    966\u001b[0m     )\n\u001b[1;32m    968\u001b[0m     \u001b[38;5;28;01mreturn\u001b[39;00m results\n\u001b[0;32m--> 970\u001b[0m \u001b[38;5;28mself\u001b[39m\u001b[38;5;241m.\u001b[39m_run_search(evaluate_candidates)\n\u001b[1;32m    972\u001b[0m \u001b[38;5;66;03m# multimetric is determined here because in the case of a callable\u001b[39;00m\n\u001b[1;32m    973\u001b[0m \u001b[38;5;66;03m# self.scoring the return type is only known after calling\u001b[39;00m\n\u001b[1;32m    974\u001b[0m first_test_score \u001b[38;5;241m=\u001b[39m all_out[\u001b[38;5;241m0\u001b[39m][\u001b[38;5;124m\"\u001b[39m\u001b[38;5;124mtest_scores\u001b[39m\u001b[38;5;124m\"\u001b[39m]\n",
      "File \u001b[0;32m~/anaconda3/lib/python3.11/site-packages/sklearn/model_selection/_search.py:1527\u001b[0m, in \u001b[0;36mGridSearchCV._run_search\u001b[0;34m(self, evaluate_candidates)\u001b[0m\n\u001b[1;32m   1525\u001b[0m \u001b[38;5;28;01mdef\u001b[39;00m \u001b[38;5;21m_run_search\u001b[39m(\u001b[38;5;28mself\u001b[39m, evaluate_candidates):\n\u001b[1;32m   1526\u001b[0m \u001b[38;5;250m    \u001b[39m\u001b[38;5;124;03m\"\"\"Search all candidates in param_grid\"\"\"\u001b[39;00m\n\u001b[0;32m-> 1527\u001b[0m     evaluate_candidates(ParameterGrid(\u001b[38;5;28mself\u001b[39m\u001b[38;5;241m.\u001b[39mparam_grid))\n",
      "File \u001b[0;32m~/anaconda3/lib/python3.11/site-packages/sklearn/model_selection/_search.py:916\u001b[0m, in \u001b[0;36mBaseSearchCV.fit.<locals>.evaluate_candidates\u001b[0;34m(candidate_params, cv, more_results)\u001b[0m\n\u001b[1;32m    908\u001b[0m \u001b[38;5;28;01mif\u001b[39;00m \u001b[38;5;28mself\u001b[39m\u001b[38;5;241m.\u001b[39mverbose \u001b[38;5;241m>\u001b[39m \u001b[38;5;241m0\u001b[39m:\n\u001b[1;32m    909\u001b[0m     \u001b[38;5;28mprint\u001b[39m(\n\u001b[1;32m    910\u001b[0m         \u001b[38;5;124m\"\u001b[39m\u001b[38;5;124mFitting \u001b[39m\u001b[38;5;132;01m{0}\u001b[39;00m\u001b[38;5;124m folds for each of \u001b[39m\u001b[38;5;132;01m{1}\u001b[39;00m\u001b[38;5;124m candidates,\u001b[39m\u001b[38;5;124m\"\u001b[39m\n\u001b[1;32m    911\u001b[0m         \u001b[38;5;124m\"\u001b[39m\u001b[38;5;124m totalling \u001b[39m\u001b[38;5;132;01m{2}\u001b[39;00m\u001b[38;5;124m fits\u001b[39m\u001b[38;5;124m\"\u001b[39m\u001b[38;5;241m.\u001b[39mformat(\n\u001b[1;32m    912\u001b[0m             n_splits, n_candidates, n_candidates \u001b[38;5;241m*\u001b[39m n_splits\n\u001b[1;32m    913\u001b[0m         )\n\u001b[1;32m    914\u001b[0m     )\n\u001b[0;32m--> 916\u001b[0m out \u001b[38;5;241m=\u001b[39m parallel(\n\u001b[1;32m    917\u001b[0m     delayed(_fit_and_score)(\n\u001b[1;32m    918\u001b[0m         clone(base_estimator),\n\u001b[1;32m    919\u001b[0m         X,\n\u001b[1;32m    920\u001b[0m         y,\n\u001b[1;32m    921\u001b[0m         train\u001b[38;5;241m=\u001b[39mtrain,\n\u001b[1;32m    922\u001b[0m         test\u001b[38;5;241m=\u001b[39mtest,\n\u001b[1;32m    923\u001b[0m         parameters\u001b[38;5;241m=\u001b[39mparameters,\n\u001b[1;32m    924\u001b[0m         split_progress\u001b[38;5;241m=\u001b[39m(split_idx, n_splits),\n\u001b[1;32m    925\u001b[0m         candidate_progress\u001b[38;5;241m=\u001b[39m(cand_idx, n_candidates),\n\u001b[1;32m    926\u001b[0m         \u001b[38;5;241m*\u001b[39m\u001b[38;5;241m*\u001b[39mfit_and_score_kwargs,\n\u001b[1;32m    927\u001b[0m     )\n\u001b[1;32m    928\u001b[0m     \u001b[38;5;28;01mfor\u001b[39;00m (cand_idx, parameters), (split_idx, (train, test)) \u001b[38;5;129;01min\u001b[39;00m product(\n\u001b[1;32m    929\u001b[0m         \u001b[38;5;28menumerate\u001b[39m(candidate_params),\n\u001b[1;32m    930\u001b[0m         \u001b[38;5;28menumerate\u001b[39m(cv\u001b[38;5;241m.\u001b[39msplit(X, y, \u001b[38;5;241m*\u001b[39m\u001b[38;5;241m*\u001b[39mrouted_params\u001b[38;5;241m.\u001b[39msplitter\u001b[38;5;241m.\u001b[39msplit)),\n\u001b[1;32m    931\u001b[0m     )\n\u001b[1;32m    932\u001b[0m )\n\u001b[1;32m    934\u001b[0m \u001b[38;5;28;01mif\u001b[39;00m \u001b[38;5;28mlen\u001b[39m(out) \u001b[38;5;241m<\u001b[39m \u001b[38;5;241m1\u001b[39m:\n\u001b[1;32m    935\u001b[0m     \u001b[38;5;28;01mraise\u001b[39;00m \u001b[38;5;167;01mValueError\u001b[39;00m(\n\u001b[1;32m    936\u001b[0m         \u001b[38;5;124m\"\u001b[39m\u001b[38;5;124mNo fits were performed. \u001b[39m\u001b[38;5;124m\"\u001b[39m\n\u001b[1;32m    937\u001b[0m         \u001b[38;5;124m\"\u001b[39m\u001b[38;5;124mWas the CV iterator empty? \u001b[39m\u001b[38;5;124m\"\u001b[39m\n\u001b[1;32m    938\u001b[0m         \u001b[38;5;124m\"\u001b[39m\u001b[38;5;124mWere there no candidates?\u001b[39m\u001b[38;5;124m\"\u001b[39m\n\u001b[1;32m    939\u001b[0m     )\n",
      "File \u001b[0;32m~/anaconda3/lib/python3.11/site-packages/sklearn/utils/parallel.py:67\u001b[0m, in \u001b[0;36mParallel.__call__\u001b[0;34m(self, iterable)\u001b[0m\n\u001b[1;32m     62\u001b[0m config \u001b[38;5;241m=\u001b[39m get_config()\n\u001b[1;32m     63\u001b[0m iterable_with_config \u001b[38;5;241m=\u001b[39m (\n\u001b[1;32m     64\u001b[0m     (_with_config(delayed_func, config), args, kwargs)\n\u001b[1;32m     65\u001b[0m     \u001b[38;5;28;01mfor\u001b[39;00m delayed_func, args, kwargs \u001b[38;5;129;01min\u001b[39;00m iterable\n\u001b[1;32m     66\u001b[0m )\n\u001b[0;32m---> 67\u001b[0m \u001b[38;5;28;01mreturn\u001b[39;00m \u001b[38;5;28msuper\u001b[39m()\u001b[38;5;241m.\u001b[39m\u001b[38;5;21m__call__\u001b[39m(iterable_with_config)\n",
      "File \u001b[0;32m~/anaconda3/lib/python3.11/site-packages/joblib/parallel.py:2007\u001b[0m, in \u001b[0;36mParallel.__call__\u001b[0;34m(self, iterable)\u001b[0m\n\u001b[1;32m   2001\u001b[0m \u001b[38;5;66;03m# The first item from the output is blank, but it makes the interpreter\u001b[39;00m\n\u001b[1;32m   2002\u001b[0m \u001b[38;5;66;03m# progress until it enters the Try/Except block of the generator and\u001b[39;00m\n\u001b[1;32m   2003\u001b[0m \u001b[38;5;66;03m# reaches the first `yield` statement. This starts the asynchronous\u001b[39;00m\n\u001b[1;32m   2004\u001b[0m \u001b[38;5;66;03m# dispatch of the tasks to the workers.\u001b[39;00m\n\u001b[1;32m   2005\u001b[0m \u001b[38;5;28mnext\u001b[39m(output)\n\u001b[0;32m-> 2007\u001b[0m \u001b[38;5;28;01mreturn\u001b[39;00m output \u001b[38;5;28;01mif\u001b[39;00m \u001b[38;5;28mself\u001b[39m\u001b[38;5;241m.\u001b[39mreturn_generator \u001b[38;5;28;01melse\u001b[39;00m \u001b[38;5;28mlist\u001b[39m(output)\n",
      "File \u001b[0;32m~/anaconda3/lib/python3.11/site-packages/joblib/parallel.py:1650\u001b[0m, in \u001b[0;36mParallel._get_outputs\u001b[0;34m(self, iterator, pre_dispatch)\u001b[0m\n\u001b[1;32m   1647\u001b[0m     \u001b[38;5;28;01myield\u001b[39;00m\n\u001b[1;32m   1649\u001b[0m     \u001b[38;5;28;01mwith\u001b[39;00m \u001b[38;5;28mself\u001b[39m\u001b[38;5;241m.\u001b[39m_backend\u001b[38;5;241m.\u001b[39mretrieval_context():\n\u001b[0;32m-> 1650\u001b[0m         \u001b[38;5;28;01myield from\u001b[39;00m \u001b[38;5;28mself\u001b[39m\u001b[38;5;241m.\u001b[39m_retrieve()\n\u001b[1;32m   1652\u001b[0m \u001b[38;5;28;01mexcept\u001b[39;00m \u001b[38;5;167;01mGeneratorExit\u001b[39;00m:\n\u001b[1;32m   1653\u001b[0m     \u001b[38;5;66;03m# The generator has been garbage collected before being fully\u001b[39;00m\n\u001b[1;32m   1654\u001b[0m     \u001b[38;5;66;03m# consumed. This aborts the remaining tasks if possible and warn\u001b[39;00m\n\u001b[1;32m   1655\u001b[0m     \u001b[38;5;66;03m# the user if necessary.\u001b[39;00m\n\u001b[1;32m   1656\u001b[0m     \u001b[38;5;28mself\u001b[39m\u001b[38;5;241m.\u001b[39m_exception \u001b[38;5;241m=\u001b[39m \u001b[38;5;28;01mTrue\u001b[39;00m\n",
      "File \u001b[0;32m~/anaconda3/lib/python3.11/site-packages/joblib/parallel.py:1762\u001b[0m, in \u001b[0;36mParallel._retrieve\u001b[0;34m(self)\u001b[0m\n\u001b[1;32m   1757\u001b[0m \u001b[38;5;66;03m# If the next job is not ready for retrieval yet, we just wait for\u001b[39;00m\n\u001b[1;32m   1758\u001b[0m \u001b[38;5;66;03m# async callbacks to progress.\u001b[39;00m\n\u001b[1;32m   1759\u001b[0m \u001b[38;5;28;01mif\u001b[39;00m ((\u001b[38;5;28mlen\u001b[39m(\u001b[38;5;28mself\u001b[39m\u001b[38;5;241m.\u001b[39m_jobs) \u001b[38;5;241m==\u001b[39m \u001b[38;5;241m0\u001b[39m) \u001b[38;5;129;01mor\u001b[39;00m\n\u001b[1;32m   1760\u001b[0m     (\u001b[38;5;28mself\u001b[39m\u001b[38;5;241m.\u001b[39m_jobs[\u001b[38;5;241m0\u001b[39m]\u001b[38;5;241m.\u001b[39mget_status(\n\u001b[1;32m   1761\u001b[0m         timeout\u001b[38;5;241m=\u001b[39m\u001b[38;5;28mself\u001b[39m\u001b[38;5;241m.\u001b[39mtimeout) \u001b[38;5;241m==\u001b[39m TASK_PENDING)):\n\u001b[0;32m-> 1762\u001b[0m     time\u001b[38;5;241m.\u001b[39msleep(\u001b[38;5;241m0.01\u001b[39m)\n\u001b[1;32m   1763\u001b[0m     \u001b[38;5;28;01mcontinue\u001b[39;00m\n\u001b[1;32m   1765\u001b[0m \u001b[38;5;66;03m# We need to be careful: the job list can be filling up as\u001b[39;00m\n\u001b[1;32m   1766\u001b[0m \u001b[38;5;66;03m# we empty it and Python list are not thread-safe by\u001b[39;00m\n\u001b[1;32m   1767\u001b[0m \u001b[38;5;66;03m# default hence the use of the lock\u001b[39;00m\n",
      "\u001b[0;31mKeyboardInterrupt\u001b[0m: "
     ]
    }
   ],
   "source": [
    "for criterion, criterion_name in zip(regression_criteria, criterion_names):\n",
    "    dt_regressor = GridSearchCV(\n",
    "        estimator=DecisionTreeRegressor(criterion),\n",
    "        param_grid={\n",
    "            'max_depth': np.arange(3, 14),\n",
    "            'min_samples_split': np.arange(3, 14)\n",
    "        },\n",
    "        scoring='r2',\n",
    "        cv=5,  # разбиение выборки на 5 фолдов\n",
    "        verbose=1,  # насколько часто печатать сообщения\n",
    "        n_jobs=-1,  # кол-во параллельных процессов\n",
    "    )\n",
    "    dt_regressor.fit(X_train, y_train)\n",
    "    predictions = dt_regressor.predict(X_test)\n",
    "    \n",
    "    # Выведем оптимальные гиперпараметры по кросс-валидации\n",
    "    optimal_max_depth = dt_regressor.best_params_['max_depth']\n",
    "    optimal_min_samples_split = dt_regressor.best_params_['min_samples_split']\n",
    "    print(f'Оптимальный max_depth: {optimal_max_depth}')\n",
    "    print(f'Оптимальный min_samples_split: {optimal_min_samples_split}')\n",
    "    \n",
    "    # Выведем качество на тесте\n",
    "    r2_value = r2_score(y_true=y_test, y_pred=predictions)\n",
    "    print(f'r2_score на тесте: {r2_value:.3f}')"
   ]
  },
  {
   "cell_type": "markdown",
   "metadata": {},
   "source": [
    "(остановим, чтобы не ждать и воспользуемся когда-то найденными параметрами)"
   ]
  },
  {
   "cell_type": "code",
   "execution_count": 12,
   "metadata": {
    "ExecuteTime": {
     "end_time": "2021-03-02T12:32:24.279344Z",
     "start_time": "2021-03-02T12:32:24.260354Z"
    },
    "colab": {
     "background_save": true
    },
    "id": "5lW2Z2doFMDl"
   },
   "outputs": [],
   "source": [
    "def plot_graphs(tree_estimator, criterions, scorer, title,\n",
    "                max_depth_list = np.arange(1, 14), min_samples_split = 3):\n",
    "    \n",
    "    plt.figure(figsize=(10, 6))\n",
    "    \n",
    "    for criterion in criterions:\n",
    "        score_train = []\n",
    "        score_test = []\n",
    "        \n",
    "        for max_depth in max_depth_list:\n",
    "            estimator = tree_estimator(criterion[0], max_depth=max_depth, \n",
    "                                       min_samples_split=min_samples_split)\n",
    "            estimator.fit(X_train, y_train)\n",
    "            score_train.append(scorer(y_train, estimator.predict(X_train)))\n",
    "            score_test.append(scorer(y_test, estimator.predict(X_test)))\n",
    "\n",
    "        plt.plot(max_depth_list, score_train, \n",
    "                 lw=5, alpha=0.7, label='train {}'.format(criterion[1]))\n",
    "        plt.plot(max_depth_list, score_test, \n",
    "                 lw=5, alpha=0.7, label='test {}'.format(criterion[1]))\n",
    "    \n",
    "    plt.xlabel('Максимальная глубина')\n",
    "    plt.ylabel('Значение метрики')\n",
    "    plt.legend()\n",
    "    plt.title(title, fontsize=20)\n",
    "    plt.show()"
   ]
  },
  {
   "cell_type": "code",
   "execution_count": 13,
   "metadata": {
    "ExecuteTime": {
     "end_time": "2021-03-02T13:03:31.793200Z",
     "start_time": "2021-03-02T12:48:48.125621Z"
    },
    "id": "ALrDG3RIFMEb"
   },
   "outputs": [
    {
     "data": {
      "image/png": "[encoded data removed]",
      "text/plain": [
       "<Figure size 720x432 with 1 Axes>"
      ]
     },
     "metadata": {},
     "output_type": "display_data"
    }
   ],
   "source": [
    "plot_graphs(DecisionTreeRegressor, \n",
    "            [(mean_square_criterion, 'mse'), (mean_abs_criterion, 'mae')], \n",
    "            r2_score,\n",
    "            'Регрессия с использованием критериев MSE и MAE',\n",
    "            max_depth_list=range(3, 15))"
   ]
  },
  {
   "cell_type": "markdown",
   "metadata": {
    "id": "w6JQ-G7RFMEh"
   },
   "source": [
    "**Вывод.**\n",
    "\n",
    "В данном случае оптимальные параметры для критериев разбиения различаются. Видно, что критерий, основанный на mse, даёт гораздо более высокий результат\n",
    "\n",
    "Качество результатов, выдаваемых решающим деревом, построенным с использованием mae критерия, оказалось ниже, чем даёт дерево, использующее mse критерий. На графике видно, что при `max_depth` $> 8$ решающее дерево для квадратичной функции потерь начинает переобучаться, так как `score` на обучающей выборке растёт, а на тестовой — падает\n",
    "\n",
    "Можно ускорить пострение решающего дерева, снизив асимптотику разбиения по признаку с $O(un)$ до $O(u+n \\cdot \\text{log} n)$, где $u$ &mdash; количество значений признака, а $n$ &mdash; количество различных значений\n",
    "\n",
    "Рассмотрим пример для MSE. Преобразуем функционал MSE:\n",
    "$$MSE(y_1, ..., y_n) = \\frac{1}{n}\\sum\\limits_{1}^n (y_i - \\overline{Y})^2 = \\overline{Y^2} - \\overline{Y}^2.$$\n",
    "\n",
    "Можно предподсчитать на префиксах и на суффиксах суммы квадратов и квадраты сумм $y_i$ и тогда значение каждого функционала будет вычислять не за линейное, а за константное время. Но перед использованием данного алгоритма, нужно отсортировать элементы, попавшие в вершину, по разделяемому признаку"
   ]
  }
 ],
 "metadata": {
  "colab": {
   "collapsed_sections": [],
   "name": "tree_implementation_solution.ipynb",
   "provenance": []
  },
  "kernelspec": {
   "display_name": "Python 3 (ipykernel)",
   "language": "python",
   "name": "python3"
  },
  "language_info": {
   "codemirror_mode": {
    "name": "ipython",
    "version": 3
   },
   "file_extension": ".py",
   "mimetype": "text/x-python",
   "name": "python",
   "nbconvert_exporter": "python",
   "pygments_lexer": "ipython3",
   "version": "3.11.9"
  }
 },
 "nbformat": 4,
 "nbformat_minor": 4
}
